{
 "cells": [
  {
   "cell_type": "markdown",
   "metadata": {},
   "source": [
    "# Grand canonical thermodynamic potential for quark matter"
   ]
  },
  {
   "cell_type": "markdown",
   "metadata": {},
   "source": [
    "This is the first numerical project of the fall term of the MPNP-2017 course, which is described in the first problem sheet by David Blaschke. The model we study here is largely oversimplified, compared to real-world problems, but using this toy model we can study the main features of the \"chiral phase transition\" from massive to (approximately) massless fermions."
   ]
  },
  {
   "cell_type": "markdown",
   "metadata": {},
   "source": [
    "The model is formulated by the following thermodynamic potential:\n",
    "\n",
    "\\begin{gather}\n",
    "    \\Omega(\\phi; \\mu, T) = \\frac{\\phi^2 - \\phi_0^2}{4 G_1} - \\frac{6}{\\pi^2} \\int\\limits_0^\\infty dq q^2 \\Big\\{E_\\phi(q) - E_{\\phi_0}(q) + T \\ln[1+ \\exp(- \\frac{E_\\phi(q) - \\mu}{T})] + T \\ln[1+ \\exp(- \\frac{E_\\phi(q) + \\mu}{T})] \\Big\\},\n",
    "\\end{gather}"
   ]
  },
  {
   "cell_type": "markdown",
   "metadata": {},
   "source": [
    "where $\\phi$ is the mean-field value of some scalar boson field $\\phi$, the spectrum of quarks for a fixed value of the field $\\phi$ is given by $E_\\phi(q) = \\sqrt{q^2 + (m + g(q) \\phi)^2}$ and $\\phi_0$ is the equilibrum value of $\\phi$ at $T=0; \\mu=0$. The interaction among quarks is wrapped with the Gaussian formfactor $g(q) = \\exp(-q^2/\\Lambda^2)$, $\\Lambda = 891 \\, {\\rm MeV}$. Parameter $G_1  =3.881/\\Lambda^2$ is the coupling constant and m = $2.177$ MeV is the bare quark mass."
   ]
  },
  {
   "cell_type": "markdown",
   "metadata": {},
   "source": [
    "Questions below are to be answered each in a separate `.ipynb` file. You can use usual `$...$` notation to include LaTeX formulae in a cell, which has to be switched to Markdown mode before (RTFM, please, and don't forget to consult the Keyboard shortcut section of the Jupyter Notebook help)"
   ]
  },
  {
   "cell_type": "markdown",
   "metadata": {},
   "source": [
    "Figures below I took from other students' results from the previous year. Don't pay attention to numbers on them - their sole purpose is to show the expected dependences qualitatively."
   ]
  },
  {
   "cell_type": "markdown",
   "metadata": {},
   "source": [
    "#### 1. Preliminaries "
   ]
  },
  {
   "cell_type": "markdown",
   "metadata": {},
   "source": [
    "For numerical calculations all the expressions have to be made dimensionless by an appropriate choice of scales for the quantities in the expression. \n",
    "* Propose a choice of units such that $\\mu, T, \\phi, \\Omega, G_1, ...$ will have give _not too small and not too large_ values for their corresponding variables in your program. \n",
    "\n",
    "* Remember that all the formulae are written in $\\hbar = c = 1$ units. Important relation: $1 = \\hbar c = 197.33 \\, {\\rm MeV}\\cdot{\\rm fm}$. What is the effective range of the interaction in this model in units of ${\\rm fm}$?"
   ]
  },
  {
   "cell_type": "markdown",
   "metadata": {},
   "source": [
    "#### 2. Vacuum condensate "
   ]
  },
  {
   "cell_type": "markdown",
   "metadata": {},
   "source": [
    "* Derive the expression for $\\Omega$ and the equation for the order parameter ($D(\\phi) \\equiv \\dfrac{\\partial \\Omega}{\\partial \\phi} = 0$) at $T = 0$ "
   ]
  },
  {
   "cell_type": "markdown",
   "metadata": {},
   "source": [
    "* Use your favorite numerical method from one of the Python scientific libraries to find a solution of this equation for $\\phi(T=0, \\mu=0)$ for the set of parameters defined above. Perform the calculation in dimensionless units (see 1) and express the result in units of MeV or GeV. This parameter determines the mass of a quark \"in a nucleon consistent of 3 quarks\" (so-called constituent quark mass), so the value should be close to $940 \\, {\\rm MeV}/3$.\n",
    "\n",
    "* Try to find a root of the equation by using a method not for root finding, but using the gradient descent-like method for numerical minimization. This means, that the root finding (if the root is known to exist) is equivalent to minimizing $||\\dfrac{\\partial \\Omega}{\\partial \\phi}||$. This will be useful in future for finding a root of a system of non-linear equations.  "
   ]
  },
  {
   "cell_type": "markdown",
   "metadata": {},
   "source": [
    "#### 3. In-medium change of the condensate"
   ]
  },
  {
   "cell_type": "markdown",
   "metadata": {},
   "source": [
    "* Find the solution for the $\\phi(T=0)$ as a function for the chemical potential $\\mu$. "
   ]
  },
  {
   "cell_type": "markdown",
   "metadata": {},
   "source": [
    "The result should look like \n",
    "![$\\Phi(\\mu)$](phi_mu.jpg)"
   ]
  },
  {
   "cell_type": "markdown",
   "metadata": {},
   "source": [
    "so the order parameter has multiple solutions for some range of $\\mu$. Formulate the problem in a convenient way to find all the branches of $\\phi(\\mu)$ in one run."
   ]
  },
  {
   "cell_type": "markdown",
   "metadata": {},
   "source": [
    "* Plot the $D(\\phi; T=0)$ and $\\Omega(\\phi; T=0)$ for a set of $\\mu$ to learn which solutions corresponds to minima and which to maxima of $\\Omega$."
   ]
  },
  {
   "cell_type": "markdown",
   "metadata": {},
   "source": [
    "For $D(\\phi)$ you will see a figure like this:"
   ]
  },
  {
   "cell_type": "markdown",
   "metadata": {},
   "source": [
    "![$\\D(\\phi)$](omega_phi_varmu.jpg)"
   ]
  },
  {
   "cell_type": "markdown",
   "metadata": {},
   "source": [
    "and for $\\Omega(\\phi)$ you will see a figure with two minima (for $\\mu$ in the reange with multiple solutions), like in Landau theory of phase transitions (cf. phenomenology of ferromagnetism from statistical physics course)"
   ]
  },
  {
   "cell_type": "markdown",
   "metadata": {},
   "source": [
    "* Plot the pressure $P = - \\Omega$ as a function of $\\mu$ with self-consistent $\\phi(\\mu)$. Find a chemical potential of the self-intersection point $\\mu^*$ (in normal units), which is the point of phase transition. Use the plots of $\\Omega(\\phi)$ for various $\\mu$ from the previous task to prove that the new phase (with lower $\\phi$) becomes energetically more favorable at the point of phase transition."
   ]
  },
  {
   "cell_type": "markdown",
   "metadata": {},
   "source": [
    "Qualitatively it looks like this:\n",
    "![$P(\\mu)$](NJL-1-pressure.jpg)"
   ]
  },
  {
   "cell_type": "markdown",
   "metadata": {},
   "source": [
    "#### 4. Change of the phase transition with increase of the temperature."
   ]
  },
  {
   "cell_type": "markdown",
   "metadata": {},
   "source": [
    "* Implement all the steps from parts 2. and 3. for $T > 0$. "
   ]
  },
  {
   "cell_type": "markdown",
   "metadata": {},
   "source": [
    "* Find the critical temperature $T_c$, at which the multiple solutions disappear. Plot the figures, analogous to those in part 3., for a fixed $\\mu$ near $\\mu^*$ and several temperatures below and above the $T_c$."
   ]
  },
  {
   "cell_type": "markdown",
   "metadata": {},
   "source": [
    "* Find the dependence $\\mu^*(T)$, plot it and determine the critical point"
   ]
  },
  {
   "cell_type": "markdown",
   "metadata": {},
   "source": [
    "#### 5. Fit of the pressure by the bag model"
   ]
  },
  {
   "cell_type": "markdown",
   "metadata": {},
   "source": [
    "* Fit the resulting quark matter pressure for $T = 0$ with the following 1-parameter formula:\n",
    "\n",
    "\\begin{gather}\n",
    "    P_{bag}(\\mu) = \\frac{\\mu^4}{2 \\pi^2} - B, \\quad \\mu > \\mu^*,\n",
    "\\end{gather}\n",
    "by adjusting the parameter $B$ and making a least-square fit using a function from `scipy` (or any other) library"
   ]
  },
  {
   "cell_type": "markdown",
   "metadata": {
    "collapsed": true
   },
   "source": [
    "Что-то добавили"
   ]
  }
 ],
 "metadata": {
  "kernelspec": {
   "display_name": "Python 3",
   "language": "python",
   "name": "python3"
  },
  "language_info": {
   "codemirror_mode": {
    "name": "ipython",
    "version": 3
   },
   "file_extension": ".py",
   "mimetype": "text/x-python",
   "name": "python",
   "nbconvert_exporter": "python",
   "pygments_lexer": "ipython3",
   "version": "3.6.1"
  }
 },
 "nbformat": 4,
 "nbformat_minor": 2
}
