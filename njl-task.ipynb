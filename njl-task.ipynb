{
 "cells": [
  {
   "cell_type": "markdown",
   "metadata": {},
   "source": [
    "# Grand canonical thermodynamic potential for quark matter"
   ]
  },
  {
   "cell_type": "markdown",
   "metadata": {},
   "source": [
    "This is the first numerical project of the fall term of the MPNP-2017 course, which is described in the first problem sheet by David Blaschke. The model we study here is largely oversimplified, compared to real-world problems, but using this toy model we can study the main features of the \"chiral phase transition\" from massive to (approximately) massless fermions."
   ]
  },
  {
   "cell_type": "markdown",
   "metadata": {},
   "source": [
    "The model is formulated by the following thermodynamic potential:\n",
    "\n",
    "\\begin{gather}\n",
    "    \\Omega(\\phi; \\mu, T) = \\frac{\\phi^2 - \\phi_0^2}{4 G_1} - \\frac{6}{\\pi^2} \\int\\limits_0^\\infty dq q^2 \\Big\\{E_\\phi(q) - E_{\\phi_0}(q) + T \\ln[1+ \\exp(- \\frac{E_\\phi(q) - \\mu}{T})] + T \\ln[1+ \\exp(- \\frac{E_\\phi(q) + \\mu}{T})] \\Big\\},\n",
    "\\end{gather}"
   ]
  },
  {
   "cell_type": "markdown",
   "metadata": {},
   "source": [
    "where $\\phi$ is the mean-field value of some scalar boson field $\\phi$, the spectrum of quarks for a fixed value of the field $\\phi$ is given by $E_\\phi(q) = \\sqrt{q^2 + (m + g(q) \\phi)^2}$ and $\\phi_0$ is the equilibrum value of $\\phi$ at $T=0; \\mu=0$. The interaction among quarks is wrapped with the Gaussian formfactor $g(q) = \\exp(-q^2/\\Lambda^2)$, $\\Lambda = 891 \\, {\\rm MeV}$. Parameter $G_1  =3.881/\\Lambda^2$ is the coupling constant and m = $2.177$ MeV is the bare quark mass."
   ]
  },
  {
   "cell_type": "markdown",
   "metadata": {},
   "source": [
    "Questions below are to be answered each in a separate `.ipynb` file. You can use usual `$...$` notation to include LaTeX formulae in a cell, which has to be switched to Markdown mode before (RTFM, please, and don't forget to consult the Keyboard shortcut section of the Jupyter Notebook help)"
   ]
  },
  {
   "cell_type": "markdown",
   "metadata": {},
   "source": [
    "#### 1. Preliminaries "
   ]
  },
  {
   "cell_type": "markdown",
   "metadata": {},
   "source": [
    "For numerical calculations all the expressions have to be made dimensionless by an appropriate choice of scales for the quantities in the expression. \n",
    "* Propose a choice of units such that $\\mu, T, \\phi, \\Omega, G_1, ...$ will have give _not too small and not too large_ values for their corresponding variables in your program. \n",
    "\n",
    "Remember that all the formulae are written in $\\hbar = c = 1$ units.\n",
    "* Express the effective range of the interaction in this model in units of $\\rm fm$. "
   ]
  },
  {
   "cell_type": "code",
   "execution_count": null,
   "metadata": {
    "collapsed": true
   },
   "outputs": [],
   "source": []
  }
 ],
 "metadata": {
  "kernelspec": {
   "display_name": "Python 3",
   "language": "python",
   "name": "python3"
  },
  "language_info": {
   "codemirror_mode": {
    "name": "ipython",
    "version": 3
   },
   "file_extension": ".py",
   "mimetype": "text/x-python",
   "name": "python",
   "nbconvert_exporter": "python",
   "pygments_lexer": "ipython3",
   "version": "3.6.1"
  }
 },
 "nbformat": 4,
 "nbformat_minor": 2
}
